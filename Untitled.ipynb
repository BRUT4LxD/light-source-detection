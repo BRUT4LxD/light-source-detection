{
 "cells": [
  {
   "cell_type": "code",
   "execution_count": 1,
   "metadata": {},
   "outputs": [],
   "source": [
    "from imutils import contours\n",
    "from skimage import measure\n",
    "import numpy as np\n",
    "import argparse\n",
    "import imutils\n",
    "import cv2\n",
    "import matplotlib.pyplot as plt"
   ]
  },
  {
   "cell_type": "code",
   "execution_count": 87,
   "metadata": {},
   "outputs": [
    {
     "data": {
      "image/png": "[encoded data removed]",
      "text/plain": [
       "<Figure size 432x288 with 1 Axes>"
      ]
     },
     "metadata": {
      "needs_background": "light"
     },
     "output_type": "display_data"
    }
   ],
   "source": [
    "image_path = '24.jpg'\n",
    "image1 = cv2.imread(image_path)\n",
    "image = cv2.resize(image1, (1080, 780))\n",
    "gray = cv2.cvtColor(image, cv2.COLOR_BGR2GRAY)\n",
    "hsv = cv2.cvtColor(image, cv2.COLOR_BGR2HSV)\n",
    "lower_color_bounds = np.array([100, 100, 150])\n",
    "upper_color_bounds = np.array([255,255,255])\n",
    "\n",
    "mask = cv2.inRange(hsv,lower_color_bounds,upper_color_bounds )\n",
    "plt.imshow(thresh)\n",
    "plt.show()\n",
    "\n",
    "blurred = cv2.GaussianBlur(gray, (3, 3), 0)"
   ]
  },
  {
   "cell_type": "code",
   "execution_count": 23,
   "metadata": {},
   "outputs": [
    {
     "name": "stdout",
     "output_type": "stream",
     "text": [
      "0\n"
     ]
    },
    {
     "data": {
      "image/png": "[encoded data removed]",
      "text/plain": [
       "<Figure size 432x288 with 1 Axes>"
      ]
     },
     "metadata": {
      "needs_background": "light"
     },
     "output_type": "display_data"
    }
   ],
   "source": [
    "image_path = '19.jpg'\n",
    "image = cv2.imread(image_path)\n",
    "#image = cv2.resize(image1, (1080, 780))\n",
    "blurred = cv2.GaussianBlur(image, (3,3), 0)\n",
    "hsv = cv2.cvtColor(image, cv2.COLOR_BGR2HSV)\n",
    "lower_color_bounds = np.array([100, 100, 150])\n",
    "upper_color_bounds = np.array([255,255,255])\n",
    "mask = cv2.inRange(hsv,lower_color_bounds,upper_color_bounds )\n",
    "mask_rgb = cv2.cvtColor(mask,cv2.COLOR_GRAY2BGR)\n",
    "print(mask[1][1])\n",
    "frame = hsv & mask_rgb\n",
    "thresh = cv2.dilate(frame, None, iterations=6)\n",
    "thresh = cv2.erode(thresh, None, iterations=4)\n",
    "thresh = cv2.dilate(thresh, None, iterations=2)\n",
    "cv2.imwrite(\"test_mask.jpg\", mask)\n",
    "cv2.imwrite(\"frame_test.jpg\", thresh)\n",
    "plt.imshow(mask)\n",
    "plt.show()\n"
   ]
  },
  {
   "cell_type": "code",
   "execution_count": 2,
   "metadata": {},
   "outputs": [],
   "source": [
    "def findPoint(mask):\n",
    "    for i in range(len(mask)):\n",
    "        for j in range(len(mask[i])):\n",
    "            if mask[i][j] != 0:\n",
    "                return i,j"
   ]
  },
  {
   "cell_type": "code",
   "execution_count": 1,
   "metadata": {},
   "outputs": [],
   "source": [
    "def bfs(mask):\n",
    "    i,j = findPoint(mask)\n",
    "    print(i, j)\n",
    "    i = i + int(len(mask)*0.05)\n",
    "    j = j + int(len(mask[i])*0.05)\n",
    "    print(i, j)\n",
    "    visited = np.zeros((len(mask), len(mask[i])))\n",
    "    print(visited.shape)\n",
    "    print(visited)\n",
    "    queue = []\n",
    "\n",
    "    queue.append((i + 1,j))\n",
    "    queue.append((i + 1,j + 1))\n",
    "    queue.append((i,j + 1))\n",
    "    \n",
    "    visited[i, j] = 1;\n",
    "    while queue:\n",
    "        (temp_i, temp_j) = queue.pop(0)\n",
    "        visited[temp_i, temp_j] = 1\n",
    "        if mask[temp_i][temp_j] != 0 :\n",
    "            return temp_i, temp_j\n",
    "\n",
    "        if(visited[temp_i + 1,temp_j] == 0):\n",
    "            queue.append((temp_i + 1,temp_j))\n",
    "        if(visited[temp_i + 1,temp_j + 1] == 0):\n",
    "            queue.append((temp_i + 1,temp_j + 1))\n",
    "        if(visited[temp_i,temp_j + 1] == 0):\n",
    "            queue.append((temp_i,temp_j + 1))\n"
   ]
  },
  {
   "cell_type": "code",
   "execution_count": 3,
   "metadata": {},
   "outputs": [],
   "source": [
    "# threshold the image to reveal light regions in the\n",
    "# blurred image\n",
    "thresh = cv2.threshold(blurred, 150, 255, cv2.THRESH_BINARY)[1]"
   ]
  },
  {
   "cell_type": "code",
   "execution_count": 4,
   "metadata": {},
   "outputs": [],
   "source": [
    "# perform a series of erosions and dilations to remove\n",
    "# any small blobs of noise from the thresholded image\n",
    "thresh = cv2.erode(thresh, None, iterations=2)\n",
    "thresh = cv2.dilate(thresh, None, iterations=4)\n"
   ]
  },
  {
   "cell_type": "code",
   "execution_count": 5,
   "metadata": {},
   "outputs": [],
   "source": [
    "# perform a connected component analysis on the thresholded\n",
    "# image, then initialize a mask to store only the \"large\"\n",
    "# components\n",
    "labels = measure.label(thresh, neighbors=8, background=0)\n",
    "mask = np.zeros(thresh.shape, dtype=\"uint8\")\n",
    "# loop over the unique components\n",
    "for label in np.unique(labels):\n",
    "    # if this is the background label, ignore it\n",
    "    if label == 0:\n",
    "        continue\n",
    "    # otherwise, construct the label mask and count the\n",
    "    # number of pixels \n",
    "    labelMask = np.zeros(thresh.shape, dtype=\"uint8\")\n",
    "    labelMask[labels == label] = 255\n",
    "    numPixels = cv2.countNonZero(labelMask)\n",
    "    # if the number of pixels in the component is sufficiently\n",
    "    # large, then add it to our mask of \"large blobs\"\n",
    "    if numPixels > 300:\n",
    "        mask = cv2.add(mask, labelMask)"
   ]
  },
  {
   "cell_type": "code",
   "execution_count": null,
   "metadata": {},
   "outputs": [],
   "source": [
    "# find the contours in the mask, then sort them from left to\n",
    "# right\n",
    "cnts = cv2.findContours(mask.copy(), cv2.RETR_EXTERNAL,\n",
    "    cv2.CHAIN_APPROX_SIMPLE)\n",
    "cnts = imutils.grab_contours(cnts)\n",
    "cnts = contours.sort_contours(cnts)[0]\n",
    "# loop over the contours\n",
    "for (i, c) in enumerate(cnts):\n",
    "    # draw the bright spot on the image\n",
    "    (x, y, w, h) = cv2.boundingRect(c)\n",
    "    ((cX, cY), radius) = cv2.minEnclosingCircle(c)\n",
    "    cv2.circle(image, (int(cX), int(cY)), int(radius),\n",
    "        (0, 0, 255), 3)\n",
    "    cv2.putText(image, \"#{}\".format(i + 1), (x, y - 15),\n",
    "        cv2.FONT_HERSHEY_SIMPLEX, 0.45, (0, 0, 255), 2)\n",
    "# show the output image\n",
    "cv2.imshow(\"Image\", image)\n",
    "cv2.waitKey(0)"
   ]
  },
  {
   "cell_type": "code",
   "execution_count": null,
   "metadata": {},
   "outputs": [],
   "source": []
  },
  {
   "cell_type": "code",
   "execution_count": null,
   "metadata": {},
   "outputs": [],
   "source": []
  }
 ],
 "metadata": {
  "kernelspec": {
   "display_name": "Python 3",
   "language": "python",
   "name": "python3"
  },
  "language_info": {
   "codemirror_mode": {
    "name": "ipython",
    "version": 3
   },
   "file_extension": ".py",
   "mimetype": "text/x-python",
   "name": "python",
   "nbconvert_exporter": "python",
   "pygments_lexer": "ipython3",
   "version": "3.6.6"
  }
 },
 "nbformat": 4,
 "nbformat_minor": 2
}
